{
 "cells": [
  {
   "cell_type": "markdown",
   "id": "595ebb45",
   "metadata": {},
   "source": [
    "### Prepare circuit with parameters"
   ]
  },
  {
   "cell_type": "code",
   "execution_count": 25,
   "id": "fb7a5c51",
   "metadata": {},
   "outputs": [
    {
     "name": "stdout",
     "output_type": "stream",
     "text": [
      "A=[[ 3.14159265 -1.57079633]\n",
      " [-1.57079633  3.14159265]], B=[[ 1]\n",
      " [-1]]\n",
      "realX=[[ 0.70710678]\n",
      " [-0.70710678]]\n",
      "mypredX=[[ 0.70710678-2.40275973e-16j]\n",
      " [-0.70710678-2.40275973e-16j]], qkpredX=[[0.]\n",
      " [1.]]\n",
      "(myfp,myfn)=(1.0,1.0), (qkfp,qkfn)=(0.7071067811865475,0.7071067811865475)\n"
     ]
    },
    {
     "data": {
      "text/plain": [
       "0.7071067811865475"
      ]
     },
     "execution_count": 25,
     "metadata": {},
     "output_type": "execute_result"
    }
   ],
   "source": [
    "import numpy as np\n",
    "from math import sin, cos, pi, asin\n",
    "from scipy.linalg import expm\n",
    "import matplotlib.pyplot as plt\n",
    "\n",
    "I  = np.array([[1,0],[0,1]]) # 2*2\n",
    "H  = 2**(-0.5)*np.array([[1,1],[1,-1]]) # 2*2\n",
    "F  = 0.5*np.array([[1,1,1,1],[1,1j,-1,-1j],[1,-1,1,-1],[1,-1j,-1,1j]]).transpose().conjugate() # 4*4\n",
    "B0 = np.array([[1,0,0,0],[0,0,0,0],[0,0,0,0],[0,0,0,0]]) # 4*4 # |00><00|\n",
    "B1 = np.array([[0,0,0,0],[0,1,0,0],[0,0,0,0],[0,0,0,0]]) # 4*4 # |01><01|\n",
    "B2 = np.array([[0,0,0,0],[0,0,0,0],[0,0,1,0],[0,0,0,0]]) # 4*4 # |10><10|\n",
    "B3 = np.array([[0,0,0,0],[0,0,0,0],[0,0,0,0],[0,0,0,1]]) # 4*4 # |11><11|\n",
    "s0 = np.array([[1],[0]])\n",
    "s1 = np.array([[0],[1]])\n",
    "\n",
    "def getAB(a,b,c,d):\n",
    "    return np.array([[a,b],[b,c]]), np.array([[1],[d]])\n",
    "\n",
    "def getRealX(A,B):\n",
    "    x = np.linalg.inv(A) @ B\n",
    "    return x/(x[0]**2+x[1]**2)**0.5\n",
    "\n",
    "def mKron(*args):\n",
    "    P = np.array([[1]])\n",
    "    for M in args:\n",
    "        P = np.kron(P,M)\n",
    "    return P\n",
    "\n",
    "def Ry(theta):\n",
    "    return np.array([[cos(theta/2), -sin(theta/2)],[sin(theta/2), cos(theta/2)]])\n",
    "\n",
    "def myHHL(A): # 4*4 -> 16*16\n",
    "    circ_H   = mKron(I,H,H,I)\n",
    "    circ_CU1 = mKron(I, I, mKron(np.array([[1,0],[0,0]]),I)+mKron(np.array([[0,0],[0,1]]),expm(1j*A)) )    # CU1: |0><0|I + |1><1|e^(iA) \n",
    "    circ_CU2 = mKron(I, mKron(np.array([[1,0],[0,0]]),I,I)+mKron(np.array([[0,0],[0,1]]),I,expm(1j*A*2)) ) # CU2: |0><0|II + |1><1|Ie^(iA)\n",
    "    circ_F   = mKron(I,F,I)\n",
    "    #return circ_F @ circ_CU2 @ circ_CU1 @ circ_H # debug\n",
    "\n",
    "    CR0 = mKron(Ry(0),B0)              + mKron(I,B1+B2+B3) # CR0: Ry0|00><00| + I(|01><01|+|10><10|+|11><11|)\n",
    "    CR1 = mKron(Ry(2*asin(2/pi)),B1)   + mKron(I,B0+B2+B3) # CR1: Ry1|01><01| + I(|00><00|+|10><10|+|11><11|)\n",
    "    CR2 = mKron(Ry(2*asin(1/pi)),B2)   + mKron(I,B0+B1+B3) # CR2: Ry2|10><10| + I(|00><00|+|01><01|+|11><11|)\n",
    "    CR3 = mKron(Ry(2*asin(2/pi/3)),B3) + mKron(I,B0+B1+B2) # CR3: Ry3|11><11| + I(|00><00|+|01><11|+|10><10|)\n",
    "    circ_CR  = mKron(CR3@CR2@CR1@CR0,I)\n",
    "    #return circ_CR @ circ_F @ circ_CU2 @ circ_CU1 @ circ_H # debug\n",
    "    \n",
    "    circ_FH  = circ_F.transpose().conjugate()\n",
    "    circ_CU2H= circ_CU2.transpose().conjugate()\n",
    "    circ_CU1H= circ_CU1.transpose().conjugate()\n",
    "    circ_HH  = circ_H.transpose().conjugate()\n",
    "    circ = circ_HH @ circ_CU1H @ circ_CU2H @ circ_FH @ circ_CR @ circ_F @ circ_CU2 @ circ_CU1 @ circ_H\n",
    "    assert checkUnitary(circ)[0]==True\n",
    "    return circ\n",
    "\n",
    "def qkHHL(A):\n",
    "    return mKron(H,H,H,H)\n",
    "\n",
    "def initializeB(B): # 2*1 -> 16*1\n",
    "    B = B/(B[0]**2+B[1]**2)**0.5\n",
    "    return mKron(np.array([[1],[0],[0],[0],[0],[0],[0],[0]]),B)\n",
    "\n",
    "def getPredX(A,B,HHL): # 4*4,2*1 -> 2*1\n",
    "    predTotalState = HHL(A) @ initializeB(B); #roundPrint(predTotalState); # raise # debug\n",
    "    predX = predTotalState[8:10]\n",
    "    length = (abs(predX[0])**2+abs(predX[1])**2)**0.5\n",
    "    return predX/length if length!=0 else predX\n",
    "\n",
    "def fidelity(realX, predX):\n",
    "    fp = (realX.transpose().conjugate() @ predX)[0][0]\n",
    "    fn = (realX.transpose().conjugate() @ -predX)[0][0]\n",
    "    return abs(fp), abs(fn)\n",
    "\n",
    "def loss(a=1,b=0,c=1,d=1,printV=False):\n",
    "    A, B = getAB(a,b,c,d); #\n",
    "    realX = getRealX(A,B); #\n",
    "    mypredX = getPredX(A,B,myHHL); #\n",
    "    qkpredX = getPredX(A,B,qkHHL)\n",
    "    myfp, myfn = fidelity(realX,mypredX); #\n",
    "    qkfp, qkfn = fidelity(realX,qkpredX);\n",
    "    if printV:\n",
    "        print(f\"A={A}, B={B}\")\n",
    "        print(f\"realX={realX}\")\n",
    "        print(f\"mypredX={mypredX}, qkpredX={qkpredX}\")\n",
    "        print(f\"(myfp,myfn)=({myfp},{myfn}), (qkfp,qkfn)=({qkfp},{qkfn})\")\n",
    "    return 1-max(myfp,myfn) + max(qkfp,qkfn)\n",
    "\n",
    "def grad(a,b,c,d,h=1e-8):\n",
    "    l0 = loss(a,b,c,d)\n",
    "    ga = (loss(a+h,b,c,d)-l0)/h\n",
    "    gb = (loss(a,b+h,c,d)-l0)/h\n",
    "    gc = (loss(a,b,c+h,d)-l0)/h\n",
    "    gd = (loss(a,b,c,d+h)-l0)/h\n",
    "    return ga, gb, gc, gd\n",
    "\n",
    "def checkUnitary(M):\n",
    "    I = M @ M.transpose().conjugate()\n",
    "    traceDiff = abs(I.trace()-len(I))\n",
    "    otherDiff = abs(I.sum()-I.trace())\n",
    "    return traceDiff<1e-8 and otherDiff<1e-8, traceDiff, otherDiff\n",
    "    \n",
    "def roundPrint(C):\n",
    "    R = [ [0]*len(C[0]) for i in range(len(C)) ]\n",
    "    for i in range(len(C)):\n",
    "        for j in range(len(C[0])):\n",
    "            R[i][j] = round(C[i][j].real,8)+1j*round(C[i][j].imag,8)\n",
    "    print( np.array(R) )\n",
    "    \n",
    "loss(pi,-pi/2,pi,-1,printV=True) # debug\n",
    "#loss(1,2,3,4)"
   ]
  },
  {
   "cell_type": "markdown",
   "id": "a3626b0c",
   "metadata": {},
   "source": [
    "### Adam"
   ]
  },
  {
   "cell_type": "code",
   "execution_count": 26,
   "id": "7ef7ca20",
   "metadata": {},
   "outputs": [
    {
     "name": "stdout",
     "output_type": "stream",
     "text": [
      "i=0, a=1, b=2, c=3, d=4, loss=1.84808\n",
      "i=10, a=0.89984, b=2.09682, c=2.9028, d=3.89845, loss=1.75638\n",
      "i=20, a=0.79797, b=2.17537, c=2.8194, d=3.7901, loss=1.67318\n",
      "i=30, a=0.69194, b=2.22626, c=2.75169, d=3.67323, loss=1.57996\n",
      "i=40, a=0.58069, b=2.25338, c=2.69269, d=3.54884, loss=1.46899\n",
      "i=50, a=0.46506, b=2.26265, c=2.6416, d=3.41856, loss=1.34131\n",
      "i=60, a=0.34702, b=2.25344, c=2.61254, d=3.2839, loss=1.20132\n",
      "i=70, a=0.22871, b=2.21686, c=2.63528, d=3.14575, loss=1.04958\n",
      "i=80, a=0.11146, b=2.13798, c=2.73569, d=3.0036, loss=0.87325\n",
      "i=90, a=-0.0042, b=2.00569, c=2.90068, d=2.85506, loss=0.6433\n",
      "i=100, a=-0.11622, b=1.82661, c=3.09847, d=2.69752, loss=0.32732\n",
      "i=110, a=-0.21343, b=1.62665, c=3.30304, d=2.53736, loss=0.0467\n",
      "i=120, a=-0.23927, b=1.64854, c=3.29087, d=2.53217, loss=0.03577\n",
      "i=130, a=-0.24203, b=1.70014, c=3.24538, d=2.55965, loss=0.03442\n",
      "i=140, a=-0.26127, b=1.66987, c=3.27774, d=2.52997, loss=0.02311\n",
      "i=150, a=-0.26257, b=1.6826, c=3.26663, d=2.53589, loss=0.00746\n",
      "i=160, a=-0.26365, b=1.68781, c=3.26222, d=2.5371, loss=0.00198\n",
      "i=170, a=-0.26396, b=1.6906, c=3.25977, d=2.53685, loss=0.00179\n",
      "i=180, a=-0.26446, b=1.69097, c=3.25952, d=2.53482, loss=0.00105\n",
      "i=190, a=-0.26425, b=1.69239, c=3.25817, d=2.5338, loss=0.00227\n",
      "i=200, a=-0.26397, b=1.69402, c=3.25661, d=2.53301, loss=0.00386\n",
      "i=210, a=-0.26688, b=1.68933, c=3.26139, d=2.52654, loss=0.00614\n",
      "i=220, a=-0.26473, b=1.69495, c=3.25588, d=2.52941, loss=0.00292\n",
      "i=230, a=-0.26485, b=1.69564, c=3.25525, d=2.52796, loss=0.00299\n",
      "i=240, a=-0.26691, b=1.69268, c=3.25828, d=2.52321, loss=0.00398\n",
      "i=250, a=-0.26521, b=1.69698, c=3.25406, d=2.52513, loss=0.00303\n",
      "i=260, a=-0.26747, b=1.69382, c=3.25729, d=2.5202, loss=0.00426\n",
      "i=270, a=-0.26651, b=1.69664, c=3.25455, d=2.52077, loss=0.00066\n",
      "i=280, a=-0.26603, b=1.69869, c=3.25259, d=2.52063, loss=0.00253\n",
      "i=290, a=-0.26745, b=1.69727, c=3.25409, d=2.51736, loss=0.00179\n",
      "i=300, a=-0.26528, b=1.70182, c=3.24959, d=2.51973, loss=0.00591\n",
      "i=310, a=-0.26845, b=1.69769, c=3.25383, d=2.51388, loss=0.0032\n",
      "i=320, a=-0.26688, b=1.70138, c=3.25021, d=2.51548, loss=0.00282\n",
      "i=330, a=-0.26927, b=1.69841, c=3.25326, d=2.51082, loss=0.00405\n",
      "i=340, a=-0.26814, b=1.70124, c=3.25049, d=2.51165, loss=0.00041\n",
      "i=350, a=-0.26835, b=1.70165, c=3.25014, d=2.51026, loss=0.0005\n",
      "i=360, a=-0.26729, b=1.70417, c=3.24767, d=2.51092, loss=0.00366\n",
      "i=370, a=-0.2685, b=1.70376, c=3.2482, d=2.50875, loss=0.00172\n",
      "i=380, a=-0.2678, b=1.70623, c=3.24584, d=2.50937, loss=0.00499\n",
      "i=390, a=-0.27156, b=1.70181, c=3.25039, d=2.50336, loss=0.00452\n"
     ]
    },
    {
     "data": {
      "image/png": "[encoded data removed]",
      "text/plain": [
       "<Figure size 432x288 with 1 Axes>"
      ]
     },
     "metadata": {},
     "output_type": "display_data"
    }
   ],
   "source": [
    "def adam(loss,grad,alpha,a,b,c,d,ma,mb,mc,md,va,vb,vc,vd,i,beta1=0.9,beta2=0.999,epsilon=1e-8):\n",
    "    ga, gb, gc, gd = grad(a,b,c,d)\n",
    "    ma = beta1*ma+(1-beta1)*ga\n",
    "    mb = beta1*mb+(1-beta1)*gb\n",
    "    mc = beta1*mc+(1-beta1)*gc\n",
    "    md = beta1*md+(1-beta1)*gd\n",
    "    va = beta2*va+(1-beta2)*ga**2\n",
    "    vb = beta2*vb+(1-beta2)*gb**2\n",
    "    vc = beta2*vc+(1-beta2)*gc**2\n",
    "    vd = beta2*vd+(1-beta2)*gd**2\n",
    "    corr_ma = ma/(1-beta1**(i+1))\n",
    "    corr_mb = mb/(1-beta1**(i+1))\n",
    "    corr_mc = mc/(1-beta1**(i+1))\n",
    "    corr_md = md/(1-beta1**(i+1))\n",
    "    corr_va = va/(1-beta2**(i+1))\n",
    "    corr_vb = vb/(1-beta2**(i+1))\n",
    "    corr_vc = vc/(1-beta2**(i+1))\n",
    "    corr_vd = vd/(1-beta2**(i+1))\n",
    "    a = a-alpha*corr_ma/(corr_va**0.5+epsilon)\n",
    "    b = b-alpha*corr_mb/(corr_vb**0.5+epsilon)\n",
    "    c = c-alpha*corr_mc/(corr_vc**0.5+epsilon)\n",
    "    d = d-alpha*corr_md/(corr_vd**0.5+epsilon)\n",
    "    return a,b,c,d,ma,mb,mc,md,va,vb,vc,vd\n",
    "\n",
    "a, b, c, d = 1, 2, 3, 4\n",
    "va, vb, vc, vd = 0, 0, 0, 0\n",
    "ma, mb, mc, md = 0, 0, 0, 0\n",
    "alpha = 1e-2\n",
    "lossL = []\n",
    "for i in range(400):\n",
    "    l0 = loss(a,b,c,d)\n",
    "    lossL.append(l0)\n",
    "    if i%10==0:\n",
    "        print(f\"i={i}, a={round(a,5)}, b={round(b,5)}, c={round(c,5)}, d={round(d,5)}, loss={round(l0,5)}\")\n",
    "    a,b,c,d,ma,mb,mc,md,va,vb,vc,vd = adam(loss,grad,alpha,a,b,c,d,ma,mb,mc,md,va,vb,vc,vd,i) # new va,vb,i,m\n",
    "\n",
    "ax = plt.figure()\n",
    "ax.set_facecolor(\"orange\")\n",
    "plt.title(\"adagrad momentum gradient descent\") \n",
    "plt.plot(lossL)\n",
    "plt.show()"
   ]
  },
  {
   "cell_type": "code",
   "execution_count": 27,
   "id": "ab5ac657",
   "metadata": {},
   "outputs": [
    {
     "name": "stdout",
     "output_type": "stream",
     "text": [
      "A=[[-0.27142696  1.70344549]\n",
      " [ 1.70344549  3.24886972]], B=[[1.        ]\n",
      " [2.50319442]]\n",
      "realX=[[0.39194546]\n",
      " [0.91998846]]\n",
      "mypredX=[[0.3722137 +8.74579160e-18j]\n",
      " [0.92814706+3.53889356e-17j]], qkpredX=[[ 0.91897157]\n",
      " [-0.3943238 ]]\n",
      "(myfp,myfn)=(0.9997720474101801,0.9997720474101801), (qkfp,qkfn)=(0.002586611387689107,0.002586611387689107)\n"
     ]
    },
    {
     "data": {
      "text/plain": [
       "0.0028145639775089978"
      ]
     },
     "execution_count": 27,
     "metadata": {},
     "output_type": "execute_result"
    }
   ],
   "source": [
    "loss(a,b,c,d,printV=True)"
   ]
  },
  {
   "cell_type": "code",
   "execution_count": null,
   "id": "b9d05056",
   "metadata": {},
   "outputs": [],
   "source": []
  },
  {
   "cell_type": "markdown",
   "id": "418e25a8",
   "metadata": {},
   "source": [
    "### DEBUG"
   ]
  },
  {
   "cell_type": "code",
   "execution_count": 154,
   "id": "affab869",
   "metadata": {},
   "outputs": [
    {
     "name": "stdout",
     "output_type": "stream",
     "text": [
      "+ stateAfterQPE:\n",
      " [[0.        ]\n",
      " [0.        ]\n",
      " [0.70710678]\n",
      " [0.70710678]\n",
      " [0.        ]\n",
      " [0.        ]\n",
      " [0.        ]\n",
      " [0.        ]\n",
      " [0.        ]\n",
      " [0.        ]\n",
      " [0.        ]\n",
      " [0.        ]\n",
      " [0.        ]\n",
      " [0.        ]\n",
      " [0.        ]\n",
      " [0.        ]]\n",
      "- stateAfterQPE:\n",
      " [[ 0.        ]\n",
      " [-0.        ]\n",
      " [ 0.        ]\n",
      " [-0.        ]\n",
      " [ 0.        ]\n",
      " [-0.        ]\n",
      " [ 0.70710678]\n",
      " [-0.70710678]\n",
      " [ 0.        ]\n",
      " [-0.        ]\n",
      " [ 0.        ]\n",
      " [-0.        ]\n",
      " [ 0.        ]\n",
      " [-0.        ]\n",
      " [ 0.        ]\n",
      " [-0.        ]]\n"
     ]
    }
   ],
   "source": [
    "# A=np.array([[pi,-pi/2],[-pi/2,pi]]) B=|+> or |->\n",
    "sp = np.array([[2**-0.5],[2**-0.5]])\n",
    "sn = np.array([[2**-0.5],[-2**-0.5]])\n",
    "print(\"+ stateAfterQPE:\\n\", mKron(s0,s0,s1,sp))\n",
    "print(\"- stateAfterQPE:\\n\", mKron(s0,s1,s1,sn))"
   ]
  },
  {
   "cell_type": "code",
   "execution_count": 155,
   "id": "51e6bede",
   "metadata": {},
   "outputs": [
    {
     "name": "stdout",
     "output_type": "stream",
     "text": [
      "+ stateAfterCR:\n",
      " [[0.        ]\n",
      " [0.        ]\n",
      " [0.54530508]\n",
      " [0.54530508]\n",
      " [0.        ]\n",
      " [0.        ]\n",
      " [0.        ]\n",
      " [0.        ]\n",
      " [0.        ]\n",
      " [0.        ]\n",
      " [0.45015816]\n",
      " [0.45015816]\n",
      " [0.        ]\n",
      " [0.        ]\n",
      " [0.        ]\n",
      " [0.        ]]\n",
      "- stateAfterCR:\n",
      " [[ 0.        ]\n",
      " [-0.        ]\n",
      " [ 0.        ]\n",
      " [-0.        ]\n",
      " [ 0.        ]\n",
      " [-0.        ]\n",
      " [ 0.6910023 ]\n",
      " [-0.6910023 ]\n",
      " [ 0.        ]\n",
      " [-0.        ]\n",
      " [ 0.        ]\n",
      " [-0.        ]\n",
      " [ 0.        ]\n",
      " [-0.        ]\n",
      " [ 0.15005272]\n",
      " [-0.15005272]]\n"
     ]
    }
   ],
   "source": [
    "print(\"+ stateAfterCR:\\n\", mKron( (1-1/(2*pi*0.25)**2)**0.5 *s0, s0, s1, sp ) + mKron( 1/(2*pi*0.25)*s1, s0, s1, sp ) )\n",
    "print(\"- stateAfterCR:\\n\", mKron( (1-1/(2*pi*0.75)**2)**0.5 *s0, s1, s1, sn ) + mKron( 1/(2*pi*0.75)*s1, s1, s1, sn ) )"
   ]
  },
  {
   "cell_type": "code",
   "execution_count": 156,
   "id": "84c97d75",
   "metadata": {},
   "outputs": [
    {
     "name": "stdout",
     "output_type": "stream",
     "text": [
      "+ stateAfterIQPE:\n",
      " [[0.54530508]\n",
      " [0.54530508]\n",
      " [0.        ]\n",
      " [0.        ]\n",
      " [0.        ]\n",
      " [0.        ]\n",
      " [0.        ]\n",
      " [0.        ]\n",
      " [0.45015816]\n",
      " [0.45015816]\n",
      " [0.        ]\n",
      " [0.        ]\n",
      " [0.        ]\n",
      " [0.        ]\n",
      " [0.        ]\n",
      " [0.        ]]\n",
      "+ stateAfterIQPE:\n",
      " [[ 0.6910023 ]\n",
      " [-0.6910023 ]\n",
      " [ 0.        ]\n",
      " [-0.        ]\n",
      " [ 0.        ]\n",
      " [-0.        ]\n",
      " [ 0.        ]\n",
      " [-0.        ]\n",
      " [ 0.15005272]\n",
      " [-0.15005272]\n",
      " [ 0.        ]\n",
      " [-0.        ]\n",
      " [ 0.        ]\n",
      " [-0.        ]\n",
      " [ 0.        ]\n",
      " [-0.        ]]\n"
     ]
    }
   ],
   "source": [
    "print(\"+ stateAfterIQPE:\\n\", mKron( (1-1/(2*pi*0.25)**2)**0.5 *s0, s0, s0, sp ) + mKron( 1/(2*pi*0.25)*s1, s0, s0, sp ) )\n",
    "print(\"+ stateAfterIQPE:\\n\", mKron( (1-1/(2*pi*0.75)**2)**0.5 *s0, s0, s0, sn ) + mKron( 1/(2*pi*0.75)*s1, s0, s0, sn ) )"
   ]
  },
  {
   "cell_type": "code",
   "execution_count": 157,
   "id": "f456d540",
   "metadata": {},
   "outputs": [
    {
     "data": {
      "text/plain": [
       "array([[0.        ],\n",
       "       [0.77117784],\n",
       "       [0.        ],\n",
       "       [0.        ],\n",
       "       [0.        ],\n",
       "       [0.63661977],\n",
       "       [0.        ],\n",
       "       [0.        ]])"
      ]
     },
     "execution_count": 157,
     "metadata": {},
     "output_type": "execute_result"
    }
   ],
   "source": [
    "# CR debug\n",
    "# CR 01\n",
    "mKron(np.array([[(1-1/((2*pi*0.25)**2))**0.5],[1/(2*pi*0.25)]]), s0, s1)"
   ]
  },
  {
   "cell_type": "code",
   "execution_count": 158,
   "id": "de3c43ff",
   "metadata": {},
   "outputs": [
    {
     "data": {
      "text/plain": [
       "array([[0.        ],\n",
       "       [0.        ],\n",
       "       [0.94798672],\n",
       "       [0.        ],\n",
       "       [0.        ],\n",
       "       [0.        ],\n",
       "       [0.31830989],\n",
       "       [0.        ]])"
      ]
     },
     "execution_count": 158,
     "metadata": {},
     "output_type": "execute_result"
    }
   ],
   "source": [
    "# CR 10\n",
    "mKron(np.array([[(1-1/((2*pi*0.5)**2))**0.5],[1/(2*pi*0.5)]]), s1, s0)"
   ]
  },
  {
   "cell_type": "code",
   "execution_count": 159,
   "id": "d282145d",
   "metadata": {},
   "outputs": [
    {
     "data": {
      "text/plain": [
       "array([[0.        ],\n",
       "       [0.        ],\n",
       "       [0.        ],\n",
       "       [0.97722483],\n",
       "       [0.        ],\n",
       "       [0.        ],\n",
       "       [0.        ],\n",
       "       [0.21220659]])"
      ]
     },
     "execution_count": 159,
     "metadata": {},
     "output_type": "execute_result"
    }
   ],
   "source": [
    "# CR 11\n",
    "mKron(np.array([[(1-1/((2*pi*0.75)**2))**0.5],[1/(2*pi*0.75)]]), s1, s1)"
   ]
  },
  {
   "cell_type": "code",
   "execution_count": null,
   "id": "b1a72985",
   "metadata": {},
   "outputs": [],
   "source": []
  },
  {
   "cell_type": "code",
   "execution_count": null,
   "id": "b4db22df",
   "metadata": {},
   "outputs": [],
   "source": []
  }
 ],
 "metadata": {
  "kernelspec": {
   "display_name": "Python 3 (ipykernel)",
   "language": "python",
   "name": "python3"
  },
  "language_info": {
   "codemirror_mode": {
    "name": "ipython",
    "version": 3
   },
   "file_extension": ".py",
   "mimetype": "text/x-python",
   "name": "python",
   "nbconvert_exporter": "python",
   "pygments_lexer": "ipython3",
   "version": "3.8.10"
  }
 },
 "nbformat": 4,
 "nbformat_minor": 5
}
